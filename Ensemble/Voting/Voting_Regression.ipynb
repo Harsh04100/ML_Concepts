{
  "nbformat": 4,
  "nbformat_minor": 0,
  "metadata": {
    "colab": {
      "provenance": []
    },
    "kernelspec": {
      "name": "python3",
      "display_name": "Python 3"
    },
    "language_info": {
      "name": "python"
    }
  },
  "cells": [
    {
      "cell_type": "code",
      "source": [
        "import numpy as np\n",
        "from sklearn.datasets import fetch_california_housing"
      ],
      "metadata": {
        "id": "82ep9ERlccLL"
      },
      "execution_count": 1,
      "outputs": []
    },
    {
      "cell_type": "code",
      "source": [
        "X,y = fetch_california_housing(return_X_y=True)"
      ],
      "metadata": {
        "id": "NXttI3edfLcr"
      },
      "execution_count": 2,
      "outputs": []
    },
    {
      "cell_type": "code",
      "source": [
        "X.shape , y.shape"
      ],
      "metadata": {
        "colab": {
          "base_uri": "https://localhost:8080/"
        },
        "id": "kXrzYZnyfSIT",
        "outputId": "f5d98a89-ae12-4567-8ffa-dd9ab8a86a9d"
      },
      "execution_count": 3,
      "outputs": [
        {
          "output_type": "execute_result",
          "data": {
            "text/plain": [
              "((20640, 8), (20640,))"
            ]
          },
          "metadata": {},
          "execution_count": 3
        }
      ]
    },
    {
      "cell_type": "code",
      "source": [
        "from sklearn.linear_model import LinearRegression\n",
        "from sklearn.tree import DecisionTreeRegressor\n",
        "from sklearn.svm import SVR\n",
        "from sklearn.model_selection import cross_val_score"
      ],
      "metadata": {
        "id": "vjBrXqTlfYAG"
      },
      "execution_count": 4,
      "outputs": []
    },
    {
      "cell_type": "code",
      "source": [
        "lr = LinearRegression()\n",
        "dt = DecisionTreeRegressor()\n",
        "dt2 = DecisionTreeRegressor()"
      ],
      "metadata": {
        "id": "ja81HnBmfcSb"
      },
      "execution_count": 5,
      "outputs": []
    },
    {
      "cell_type": "code",
      "source": [
        "estimators = [('lr',lr),('dt',dt),('dt2',dt2)]"
      ],
      "metadata": {
        "id": "VGVG7pl4ffIS"
      },
      "execution_count": 6,
      "outputs": []
    },
    {
      "cell_type": "code",
      "source": [
        "for estimator in estimators:\n",
        "  scores = cross_val_score(estimator[1],X,y,scoring='r2',cv=10)\n",
        "  print(estimator[0],np.round(np.mean(scores),2))"
      ],
      "metadata": {
        "colab": {
          "base_uri": "https://localhost:8080/"
        },
        "id": "MNp3yjxOfhV7",
        "outputId": "75a00739-a519-41bf-f590-780a6ae4eb23"
      },
      "execution_count": 7,
      "outputs": [
        {
          "output_type": "stream",
          "name": "stdout",
          "text": [
            "lr 0.51\n",
            "dt 0.24\n",
            "dt2 0.23\n"
          ]
        }
      ]
    },
    {
      "cell_type": "code",
      "source": [
        "from sklearn.ensemble import VotingRegressor"
      ],
      "metadata": {
        "id": "J4_wcMU9fkcL"
      },
      "execution_count": 8,
      "outputs": []
    },
    {
      "cell_type": "code",
      "source": [
        "vr = VotingRegressor(estimators)\n",
        "scores = cross_val_score(vr,X,y,scoring='r2',cv=10)\n",
        "print(\"Voting Regressor\",np.round(np.mean(scores),2))"
      ],
      "metadata": {
        "colab": {
          "base_uri": "https://localhost:8080/"
        },
        "id": "EdyEh4dsf37j",
        "outputId": "264eff5e-9f7b-4806-f48c-f4d82993f58d"
      },
      "execution_count": 9,
      "outputs": [
        {
          "output_type": "stream",
          "name": "stdout",
          "text": [
            "Voting Regressor 0.48\n"
          ]
        }
      ]
    },
    {
      "cell_type": "code",
      "source": [
        "## weighted voting\n",
        "for i in range(1,4):\n",
        "  for j in range(1,4):\n",
        "    for k in range(1,4):\n",
        "      vr = VotingRegressor(estimators,weights=[i,j,k])\n",
        "      scores = cross_val_score(vr,X,y,scoring='r2',cv=10)\n",
        "      print(\"For i={},j={},k={}\".format(i,j,k),np.round(np.mean(scores),2))"
      ],
      "metadata": {
        "colab": {
          "base_uri": "https://localhost:8080/"
        },
        "id": "K_JGK0UXf6ta",
        "outputId": "32f05486-bdc8-4189-e00c-9356db551516"
      },
      "execution_count": 10,
      "outputs": [
        {
          "output_type": "stream",
          "name": "stdout",
          "text": [
            "For i=1,j=1,k=1 0.48\n",
            "For i=1,j=1,k=2 0.44\n",
            "For i=1,j=1,k=3 0.41\n",
            "For i=1,j=2,k=1 0.44\n",
            "For i=1,j=2,k=2 0.41\n",
            "For i=1,j=2,k=3 0.39\n",
            "For i=1,j=3,k=1 0.41\n",
            "For i=1,j=3,k=2 0.4\n",
            "For i=1,j=3,k=3 0.38\n",
            "For i=2,j=1,k=1 0.55\n",
            "For i=2,j=1,k=2 0.51\n",
            "For i=2,j=1,k=3 0.48\n",
            "For i=2,j=2,k=1 0.51\n",
            "For i=2,j=2,k=2 0.49\n",
            "For i=2,j=2,k=3 0.46\n",
            "For i=2,j=3,k=1 0.48\n",
            "For i=2,j=3,k=2 0.46\n",
            "For i=2,j=3,k=3 0.44\n",
            "For i=3,j=1,k=1 0.56\n",
            "For i=3,j=1,k=2 0.54\n",
            "For i=3,j=1,k=3 0.52\n",
            "For i=3,j=2,k=1 0.55\n",
            "For i=3,j=2,k=2 0.52\n",
            "For i=3,j=2,k=3 0.5\n",
            "For i=3,j=3,k=1 0.52\n",
            "For i=3,j=3,k=2 0.5\n",
            "For i=3,j=3,k=3 0.48\n"
          ]
        }
      ]
    },
    {
      "cell_type": "code",
      "source": [
        "# using the same algorithm\n",
        "\n",
        "dt1 = DecisionTreeRegressor(max_depth=1)\n",
        "dt2 = DecisionTreeRegressor(max_depth=3)\n",
        "dt3 = DecisionTreeRegressor(max_depth=5)\n",
        "dt4 = DecisionTreeRegressor(max_depth=7)\n",
        "dt5 = DecisionTreeRegressor(max_depth=None)"
      ],
      "metadata": {
        "id": "D12KwWTnhc22"
      },
      "execution_count": 11,
      "outputs": []
    },
    {
      "cell_type": "code",
      "source": [
        "estimators = [('dt1',dt1),('dt2',dt2),('dt3',dt3),('dt4',dt4),('dt5',dt5)]"
      ],
      "metadata": {
        "id": "1Vp250cmgRJx"
      },
      "execution_count": 12,
      "outputs": []
    },
    {
      "cell_type": "markdown",
      "source": [],
      "metadata": {
        "id": "CIa81EbwiSKx"
      }
    },
    {
      "cell_type": "code",
      "source": [
        "for estimator in estimators:\n",
        "  scores = cross_val_score(estimator[1],X,y,scoring='r2',cv=10)\n",
        "  print(estimator[0],np.round(np.mean(scores),2))"
      ],
      "metadata": {
        "colab": {
          "base_uri": "https://localhost:8080/"
        },
        "id": "2lAZoyymgR4w",
        "outputId": "6af225c0-6453-4082-a728-488197fe3f6e"
      },
      "execution_count": 13,
      "outputs": [
        {
          "output_type": "stream",
          "name": "stdout",
          "text": [
            "dt1 0.13\n",
            "dt2 0.36\n",
            "dt3 0.43\n",
            "dt4 0.47\n",
            "dt5 0.25\n"
          ]
        }
      ]
    },
    {
      "cell_type": "code",
      "source": [
        "vr = VotingRegressor(estimators)\n",
        "scores = cross_val_score(vr,X,y,scoring='r2',cv=10)\n",
        "print(\"Voting Regressor\",np.round(np.mean(scores),2))"
      ],
      "metadata": {
        "colab": {
          "base_uri": "https://localhost:8080/"
        },
        "id": "Xz0fVMXKgWne",
        "outputId": "04185ee7-0906-44b3-9ba0-a0cbbc8e7ee6"
      },
      "execution_count": 14,
      "outputs": [
        {
          "output_type": "stream",
          "name": "stdout",
          "text": [
            "Voting Regressor 0.5\n"
          ]
        }
      ]
    },
    {
      "cell_type": "code",
      "source": [],
      "metadata": {
        "id": "m0N4uAgWh1BM"
      },
      "execution_count": 14,
      "outputs": []
    }
  ]
}