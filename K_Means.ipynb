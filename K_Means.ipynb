{
  "nbformat": 4,
  "nbformat_minor": 0,
  "metadata": {
    "colab": {
      "provenance": []
    },
    "kernelspec": {
      "name": "python3",
      "display_name": "Python 3"
    },
    "language_info": {
      "name": "python"
    }
  },
  "cells": [
    {
      "cell_type": "code",
      "execution_count": null,
      "metadata": {
        "id": "60t0JG5Wrpep"
      },
      "outputs": [],
      "source": [
        "import random\n",
        "import numpy as np"
      ]
    },
    {
      "cell_type": "code",
      "source": [
        "class KMeans:\n",
        "    def __init__(self,n_clusters=2,max_iter=100):\n",
        "        self.n_clusters = n_clusters\n",
        "        self.max_iter = max_iter\n",
        "        self.centroids = None\n",
        "\n",
        "    def fit_predict(self,X):\n",
        "\n",
        "        random_index = random.sample(range(0,X.shape[0]),self.n_clusters)\n",
        "        self.centroids = X[random_index]\n",
        "\n",
        "        for i in range(self.max_iter):\n",
        "            # assign clusters\n",
        "            cluster_group = self.assign_clusters(X)\n",
        "            old_centroids = self.centroids\n",
        "            # move centroids\n",
        "            self.centroids = self.move_centroids(X,cluster_group)\n",
        "            # check finish\n",
        "            if (old_centroids == self.centroids).all():\n",
        "                break\n",
        "\n",
        "        return cluster_group\n",
        "\n",
        "    def assign_clusters(self,X):\n",
        "        cluster_group = []\n",
        "        distances = []\n",
        "\n",
        "        for row in X:\n",
        "            for centroid in self.centroids:\n",
        "                distances.append(np.sqrt(np.dot(row-centroid,row-centroid)))\n",
        "            min_distance = min(distances)\n",
        "            index_pos = distances.index(min_distance)\n",
        "            cluster_group.append(index_pos)\n",
        "            distances.clear()\n",
        "\n",
        "        return np.array(cluster_group)\n",
        "\n",
        "    def move_centroids(self,X,cluster_group):\n",
        "        new_centroids = []\n",
        "        cluster_type = np.unique(cluster_group)\n",
        "        for type in cluster_type:\n",
        "            new_centroids.append(X[cluster_group == type].mean(axis=0))\n",
        "\n",
        "        return np.array(new_centroids)"
      ],
      "metadata": {
        "id": "PSdr3EIdvdDD"
      },
      "execution_count": null,
      "outputs": []
    },
    {
      "cell_type": "code",
      "source": [
        "import pandas as pd"
      ],
      "metadata": {
        "id": "VvcECyupxCZv"
      },
      "execution_count": null,
      "outputs": []
    },
    {
      "cell_type": "code",
      "source": [
        "from sklearn.datasets import make_blobs\n",
        "\n",
        "centroids = [(-5,-5),(5,5),(3.5,-2.5),(-2.5,2.5)]\n",
        "cluster_std = [1,1,1,1]\n",
        "\n",
        "X,y = make_blobs(n_samples=200,cluster_std=cluster_std,centers=centroids,n_features=2,random_state=1)"
      ],
      "metadata": {
        "id": "rjU4V5UXx61g"
      },
      "execution_count": 5,
      "outputs": []
    },
    {
      "cell_type": "code",
      "source": [
        "X,y"
      ],
      "metadata": {
        "colab": {
          "base_uri": "https://localhost:8080/"
        },
        "id": "ikEfDlzYgTNs",
        "outputId": "5ead171c-b4dc-40ea-d41f-09679c5e8f4d"
      },
      "execution_count": 6,
      "outputs": [
        {
          "output_type": "execute_result",
          "data": {
            "text/plain": [
              "(array([[-4.16101659, -4.06889792],\n",
              "        [-2.53536792,  4.61060505],\n",
              "        [ 3.99233656, -3.18067814],\n",
              "        [ 3.6340482 , -1.29794514],\n",
              "        [-4.44332341,  2.85249436],\n",
              "        [-2.61598519,  2.32454103],\n",
              "        [ 4.16102029, -0.70784179],\n",
              "        [ 4.96130449,  3.38422765],\n",
              "        [-2.97537288,  2.97761018],\n",
              "        [ 3.00178644, -2.81098498],\n",
              "        [-6.44411381, -5.50446586],\n",
              "        [-1.64729594,  2.5353601 ],\n",
              "        [ 3.24582013, -1.10015606],\n",
              "        [-4.71441267, -4.11485884],\n",
              "        [-3.3301719 ,  1.6194224 ],\n",
              "        [ 3.78474811, -2.23753255],\n",
              "        [-4.25592564,  3.2147896 ],\n",
              "        [ 2.16804833, -4.26068856],\n",
              "        [-1.8789173 ,  3.4561217 ],\n",
              "        [-2.77909772,  4.12284909],\n",
              "        [ 0.706915  , -0.56247119],\n",
              "        [-5.3224172 , -5.38405435],\n",
              "        [ 1.84927873, -3.39055558],\n",
              "        [-5.67124613, -5.0126646 ],\n",
              "        [-4.87984105, -4.38279689],\n",
              "        [ 2.3808846 , -0.5439211 ],\n",
              "        [-5.34385368, -4.95640314],\n",
              "        [ 6.90465871,  6.1110567 ],\n",
              "        [ 2.7996015 , -2.70339445],\n",
              "        [-4.53720123,  0.55741082],\n",
              "        [ 5.28066508,  4.9268873 ],\n",
              "        [-2.06183365,  3.62232832],\n",
              "        [ 5.07782113,  5.61838026],\n",
              "        [-5.00644065,  0.38583608],\n",
              "        [ 1.82580419, -1.67497018],\n",
              "        [ 2.63868364, -1.82528847],\n",
              "        [ 3.72744124,  5.31354772],\n",
              "        [-2.48664732,  1.8053064 ],\n",
              "        [-2.81442459, -6.39649634],\n",
              "        [-3.92655542,  4.26795995],\n",
              "        [-3.25518824, -5.7612069 ],\n",
              "        [ 4.25880566, -1.61509119],\n",
              "        [ 2.71808832, -2.93750898],\n",
              "        [-3.37565464, -5.61175641],\n",
              "        [ 5.79280687,  4.37646927],\n",
              "        [ 4.8190797 ,  4.39607937],\n",
              "        [ 3.15501279, -2.73083974],\n",
              "        [-0.36217193,  1.714466  ],\n",
              "        [ 3.14201814,  6.23616403],\n",
              "        [-3.4970198 ,  2.39320601],\n",
              "        [-4.13459237, -7.3015387 ],\n",
              "        [-4.94919225, -5.63699565],\n",
              "        [ 4.88955297,  4.38263794],\n",
              "        [ 3.09912181, -1.67599438],\n",
              "        [ 5.01740941,  3.87798127],\n",
              "        [-1.8781965 ,  1.90019547],\n",
              "        [-2.73643695,  3.2278135 ],\n",
              "        [ 5.35054598,  3.68771659],\n",
              "        [-2.66819884,  2.32581966],\n",
              "        [ 6.33145711,  4.71269214],\n",
              "        [-1.98492639, -0.28253447],\n",
              "        [ 3.917302  , -1.71522935],\n",
              "        [ 5.05880554, -2.3905973 ],\n",
              "        [ 5.5627611 ,  5.24073709],\n",
              "        [-3.80108212, -4.81484358],\n",
              "        [ 4.68988323,  2.56516224],\n",
              "        [ 4.61438298, -3.08652394],\n",
              "        [-5.12289023, -5.93576943],\n",
              "        [-3.05749472,  3.43916874],\n",
              "        [ 3.74266944, -2.29816982],\n",
              "        [-1.84541985,  2.44881155],\n",
              "        [ 4.48290554,  4.00297317],\n",
              "        [ 2.38352998, -2.4190729 ],\n",
              "        [-3.53789206, -7.06014071],\n",
              "        [-4.03879325,  2.05210482],\n",
              "        [ 5.23249456,  5.68255141],\n",
              "        [-2.91163916,  3.77852808],\n",
              "        [ 7.52832571,  4.75136522],\n",
              "        [-4.09840928, -4.49750566],\n",
              "        [ 5.31053491, -3.80572692],\n",
              "        [ 3.1735005 , -3.84267579],\n",
              "        [ 6.0388246 ,  7.18697965],\n",
              "        [-4.37316098,  3.42061512],\n",
              "        [-5.17242821, -5.87785842],\n",
              "        [ 5.84616065,  4.14048406],\n",
              "        [-5.20889423, -4.41337681],\n",
              "        [ 5.98633519,  5.2135339 ],\n",
              "        [-3.20134443,  1.96277698],\n",
              "        [ 4.73378149,  5.03261455],\n",
              "        [-2.94873803,  1.82755196],\n",
              "        [ 4.86355526,  4.88094581],\n",
              "        [ 7.19069973,  3.10363908],\n",
              "        [ 3.37953543, -3.73312074],\n",
              "        [-4.48707018, -5.29809284],\n",
              "        [ 5.1169496 , -1.99725912],\n",
              "        [ 3.31342101, -2.55682448],\n",
              "        [ 6.12141771,  5.40890054],\n",
              "        [ 4.90754   , -2.37089842],\n",
              "        [-4.80908452, -2.89974486],\n",
              "        [ 6.62765075,  5.3380117 ],\n",
              "        [-2.60999149,  2.50854895],\n",
              "        [-4.6809609 , -5.24937038],\n",
              "        [-4.95778625, -4.41718479],\n",
              "        [ 5.50318481,  6.29322588],\n",
              "        [-4.87817873, -3.87051609],\n",
              "        [-5.37528495, -5.63873041],\n",
              "        [ 2.62271848, -3.36778722],\n",
              "        [-5.74715829, -3.3075454 ],\n",
              "        [ 5.86888616,  5.75041164],\n",
              "        [ 6.16033857,  5.36949272],\n",
              "        [ 2.95422583, -2.69883786],\n",
              "        [ 5.24879916,  4.70335885],\n",
              "        [-2.47813716,  2.03132618],\n",
              "        [-3.52188594,  3.29452824],\n",
              "        [ 3.60622272, -4.02568032],\n",
              "        [ 5.40349164,  5.59357852],\n",
              "        [ 3.5607502 , -2.28887524],\n",
              "        [-3.22559712,  1.63223132],\n",
              "        [ 5.80186103,  5.0465673 ],\n",
              "        [-4.81343861, -4.58994835],\n",
              "        [-5.67066229, -4.62243621],\n",
              "        [-3.43391466,  1.96697967],\n",
              "        [ 4.11853913, -2.94317193],\n",
              "        [ 4.55287144,  6.2245077 ],\n",
              "        [ 2.05912398, -1.26774693],\n",
              "        [-3.86623056, -6.09989127],\n",
              "        [ 2.93769457, -0.54512192],\n",
              "        [-1.88201447,  2.31582367],\n",
              "        [-4.51148185, -5.07557171],\n",
              "        [ 3.59542509, -1.57854993],\n",
              "        [ 3.7764993 , -3.2332716 ],\n",
              "        [-1.48987282,  3.42001793],\n",
              "        [-4.68436505, -7.02220122],\n",
              "        [-5.69166075, -5.39675353],\n",
              "        [-3.20584051,  3.69268607],\n",
              "        [ 5.60231928,  5.4202822 ],\n",
              "        [-2.34373615,  2.30977897],\n",
              "        [-6.11731035, -4.7655843 ],\n",
              "        [ 2.2802556 , -0.05063135],\n",
              "        [ 2.54457474, -1.91408957],\n",
              "        [ 3.41549197, -2.79736188],\n",
              "        [-5.52817175, -6.07296862],\n",
              "        [-2.69505734,  3.30539342],\n",
              "        [-4.57650565, -4.92265993],\n",
              "        [-4.80170028, -4.88099135],\n",
              "        [ 3.80073197,  5.86334532],\n",
              "        [-3.34019782, -4.25795584],\n",
              "        [ 5.68006984,  4.6801984 ],\n",
              "        [-0.43421668,  1.02884307],\n",
              "        [-5.30620401, -4.17202536],\n",
              "        [ 3.90508815,  5.16938243],\n",
              "        [-5.19183555, -5.88762896],\n",
              "        [ 4.81343023,  4.89825413],\n",
              "        [ 4.97538304,  4.22483838],\n",
              "        [-5.22232814, -5.20075807],\n",
              "        [ 3.51652757, -2.32281228],\n",
              "        [ 0.53085711,  3.32458463],\n",
              "        [ 3.62688268,  5.31515939],\n",
              "        [-1.91535339,  2.82427424],\n",
              "        [ 3.92952614, -3.1069984 ],\n",
              "        [-4.69982968, -5.35224985],\n",
              "        [ 5.81095167,  6.04444209],\n",
              "        [-1.04857074,  1.88196315],\n",
              "        [ 3.86633201, -3.54458938],\n",
              "        [ 5.49521132,  4.82529684],\n",
              "        [-6.1425182 , -5.34934272],\n",
              "        [-1.64671878,  2.08697069],\n",
              "        [-4.09914405, -5.68372786],\n",
              "        [-4.83996293, -4.12383108],\n",
              "        [ 4.35308331,  5.90148689],\n",
              "        [ 6.27375593,  6.96710175],\n",
              "        [-2.94222928,  2.82352735],\n",
              "        [ 5.44136444,  4.89984477],\n",
              "        [-5.26788808, -4.46964453],\n",
              "        [-3.86837061, -3.48018318],\n",
              "        [ 4.33600472, -0.95664089],\n",
              "        [ 5.6590498 ,  3.37256166],\n",
              "        [-2.63597733,  1.70273021],\n",
              "        [-4.76990526, -4.23798882],\n",
              "        [ 5.52057634,  3.85565861],\n",
              "        [ 5.52946532,  5.13770121],\n",
              "        [-2.21732429,  1.67390257],\n",
              "        [-1.37658784,  2.80526704],\n",
              "        [-2.0388359 ,  1.32401733],\n",
              "        [ 2.26314662, -1.62416107],\n",
              "        [-5.62000084, -4.30196797],\n",
              "        [ 2.31768187, -3.16575452],\n",
              "        [ 3.49810852, -3.89662042],\n",
              "        [ 5.74055645,  4.0462994 ],\n",
              "        [-0.66528237,  3.06438286],\n",
              "        [ 4.12336218, -2.93495668],\n",
              "        [ 4.29502609, -2.87443832],\n",
              "        [-5.75439794, -3.74713184],\n",
              "        [-5.6871727 , -5.84520564],\n",
              "        [ 5.55117344, -1.914338  ],\n",
              "        [-6.10061918, -3.85527629],\n",
              "        [ 3.76994186,  5.5505375 ],\n",
              "        [-2.73794194,  3.65528789],\n",
              "        [-1.1112206 ,  1.83865576],\n",
              "        [ 5.04366899,  4.77368576]]),\n",
              " array([0, 3, 2, 2, 3, 3, 2, 1, 3, 2, 0, 3, 2, 0, 3, 2, 3, 2, 3, 3, 2, 0,\n",
              "        2, 0, 0, 2, 0, 1, 2, 3, 1, 3, 1, 3, 2, 2, 1, 3, 0, 3, 0, 2, 2, 0,\n",
              "        1, 1, 2, 3, 1, 3, 0, 0, 1, 2, 1, 3, 3, 1, 3, 1, 3, 2, 2, 1, 0, 1,\n",
              "        2, 0, 3, 2, 3, 1, 2, 0, 3, 1, 3, 1, 0, 2, 2, 1, 3, 0, 1, 0, 1, 3,\n",
              "        1, 3, 1, 1, 2, 0, 2, 2, 1, 2, 0, 1, 3, 0, 0, 1, 0, 0, 2, 0, 1, 1,\n",
              "        2, 1, 3, 3, 2, 1, 2, 3, 1, 0, 0, 3, 2, 1, 2, 0, 2, 3, 0, 2, 2, 3,\n",
              "        0, 0, 3, 1, 3, 0, 2, 2, 2, 0, 3, 0, 0, 1, 0, 1, 3, 0, 1, 0, 1, 1,\n",
              "        0, 2, 3, 1, 3, 2, 0, 1, 3, 2, 1, 0, 3, 0, 0, 1, 1, 3, 1, 0, 0, 2,\n",
              "        1, 3, 0, 1, 1, 3, 3, 3, 2, 0, 2, 2, 1, 3, 2, 2, 0, 0, 2, 0, 1, 3,\n",
              "        3, 1]))"
            ]
          },
          "metadata": {},
          "execution_count": 6
        }
      ]
    },
    {
      "cell_type": "code",
      "source": [
        "km = KMeans(n_clusters=4)\n",
        "y_pred = km.fit_predict(X)"
      ],
      "metadata": {
        "id": "l1KfqVb-g84K"
      },
      "execution_count": 8,
      "outputs": []
    },
    {
      "cell_type": "code",
      "source": [
        "import matplotlib.pyplot as plt\n",
        "df = pd.DataFrame()\n",
        "\n",
        "df['col1'] = X[:,0]\n",
        "df['col2'] = X[:,1]\n",
        "df['label'] = y_pred"
      ],
      "metadata": {
        "id": "DWY_JzBYgV40"
      },
      "execution_count": 9,
      "outputs": []
    },
    {
      "cell_type": "code",
      "source": [
        "import matplotlib.pyplot as plt\n",
        "plt.scatter(df['col1'],df['col2'])"
      ],
      "metadata": {
        "colab": {
          "base_uri": "https://localhost:8080/",
          "height": 447
        },
        "id": "18GfRcz9glF9",
        "outputId": "41835596-8dd5-4025-f8a2-3706df3b982d"
      },
      "execution_count": 14,
      "outputs": [
        {
          "output_type": "execute_result",
          "data": {
            "text/plain": [
              "<matplotlib.collections.PathCollection at 0x7e237fa58d50>"
            ]
          },
          "metadata": {},
          "execution_count": 14
        },
        {
          "output_type": "display_data",
          "data": {
            "text/plain": [
              "<Figure size 640x480 with 1 Axes>"
            ],
            "image/png": "[encoded data removed]"
          },
          "metadata": {}
        }
      ]
    },
    {
      "cell_type": "code",
      "source": [
        "X[y_pred == 3,1]"
      ],
      "metadata": {
        "colab": {
          "base_uri": "https://localhost:8080/"
        },
        "id": "fpldPbIgiC6b",
        "outputId": "8a496d62-d257-437c-c933-9da45632e184"
      },
      "execution_count": 16,
      "outputs": [
        {
          "output_type": "execute_result",
          "data": {
            "text/plain": [
              "array([3.38422765, 6.1110567 , 4.9268873 , 5.61838026, 5.31354772,\n",
              "       4.37646927, 4.39607937, 6.23616403, 4.38263794, 3.87798127,\n",
              "       3.68771659, 4.71269214, 5.24073709, 2.56516224, 4.00297317,\n",
              "       5.68255141, 4.75136522, 7.18697965, 4.14048406, 5.2135339 ,\n",
              "       5.03261455, 4.88094581, 3.10363908, 5.40890054, 5.3380117 ,\n",
              "       6.29322588, 5.75041164, 5.36949272, 4.70335885, 5.59357852,\n",
              "       5.0465673 , 6.2245077 , 5.4202822 , 5.86334532, 4.6801984 ,\n",
              "       5.16938243, 4.89825413, 4.22483838, 5.31515939, 6.04444209,\n",
              "       4.82529684, 5.90148689, 6.96710175, 4.89984477, 3.37256166,\n",
              "       3.85565861, 5.13770121, 4.0462994 , 5.5505375 , 4.77368576])"
            ]
          },
          "metadata": {},
          "execution_count": 16
        }
      ]
    },
    {
      "cell_type": "code",
      "source": [
        "plt.scatter(X[y_pred == 0,0],X[y_pred == 0,1],color='blue')\n",
        "plt.scatter(X[y_pred == 1,0],X[y_pred == 1,1],color='red')\n",
        "plt.scatter(X[y_pred == 2,0],X[y_pred == 2,1],color='green')\n",
        "plt.scatter(X[y_pred == 3,0],X[y_pred == 3,1],color='yellow')"
      ],
      "metadata": {
        "colab": {
          "base_uri": "https://localhost:8080/",
          "height": 447
        },
        "id": "L-Hn4TWMhdZN",
        "outputId": "831c7c91-9651-4f73-ee38-eefd5223f0c2"
      },
      "execution_count": 17,
      "outputs": [
        {
          "output_type": "execute_result",
          "data": {
            "text/plain": [
              "<matplotlib.collections.PathCollection at 0x7e237fa95890>"
            ]
          },
          "metadata": {},
          "execution_count": 17
        },
        {
          "output_type": "display_data",
          "data": {
            "text/plain": [
              "<Figure size 640x480 with 1 Axes>"
            ],
            "image/png": "[encoded data removed]"
          },
          "metadata": {}
        }
      ]
    },
    {
      "cell_type": "code",
      "source": [],
      "metadata": {
        "id": "YJtbaXdViB7j"
      },
      "execution_count": null,
      "outputs": []
    }
  ]
}